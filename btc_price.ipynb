{
  "nbformat": 4,
  "nbformat_minor": 0,
  "metadata": {
    "colab": {
      "name": "btc_price.ipynb",
      "version": "0.3.2",
      "provenance": [],
      "toc_visible": true,
      "include_colab_link": true
    },
    "kernelspec": {
      "name": "python3",
      "display_name": "Python 3"
    }
  },
  "cells": [
    {
      "cell_type": "markdown",
      "metadata": {
        "id": "view-in-github",
        "colab_type": "text"
      },
      "source": [
        "[View in Colaboratory](https://colab.research.google.com/github/thispassing/colaboratory/blob/master/btc_price.ipynb)"
      ]
    },
    {
      "metadata": {
        "id": "3R0ROsfUtJTG",
        "colab_type": "code",
        "colab": {}
      },
      "cell_type": "code",
      "source": [
        "!pip install -q bokeh\n",
        "\n",
        "from bokeh.colors import RGB\n",
        "from bokeh.plotting import figure, output_file, show\n",
        "from IPython import display\n",
        "import pandas as pd\n",
        "import numpy as np\n",
        "\n",
        "api_key = \"https://www.alphavantage.co/query?function=DIGITAL_CURRENCY_DAILY&symbol=BTC&market=CNY&apikey=RDZ3Q4TD6ELVMRJJ&datatype=csv\"\n",
        "btc_df=pd.read_csv(api_key,parse_dates=[\"timestamp\"])\n",
        "x = btc_df[\"timestamp\"]\n",
        "y = btc_df[\"close (USD)\"]\n",
        "btc_daily_high = btc_df[[\"timestamp\", \"close (USD)\"]]\n",
        "\n",
        "pd.options.display.float_format = '{:.1f}'.format\n",
        "\n",
        "p = figure(x_axis_type=\"datetime\", logo=None)\n",
        "\n",
        "p.title.text = \"BTC Since 2014\"\n",
        "p.title.text_color = \"Orange\"\n",
        "p.title.text_font = \"times\"\n",
        "p.title.text_font_style = \"italic\"\n",
        "\n",
        "\n",
        "p.xaxis.axis_label = \"Date\"\n",
        "p.yaxis.axis_label = \"BTC Close (USD)\"\n",
        "\n",
        "p.line(x, y, color=\"red\")\n",
        "\n",
        "output_file(\"BTC_Close.html\")\n",
        "\n",
        "btc_df_r = btc_df.reindex(\n",
        "    np.random.permutation(btc_df.index))\n",
        "\n",
        "#print(btc_df_r)"
      ],
      "execution_count": 0,
      "outputs": []
    },
    {
      "metadata": {
        "id": "MNLiCrD5tNv9",
        "colab_type": "code",
        "colab": {}
      },
      "cell_type": "code",
      "source": [
        "def preprocess_features(btc_df):\n",
        "  \n",
        "  selected_features = btc_df[[\n",
        "      \"high (USD)\",\n",
        "      \"low (USD)\",  \n",
        "      \"volume\"]]\n",
        "  \n",
        "  processed_features = selected_features.copy()\n",
        "  return processed_features\n",
        "\n",
        "def preprocess_targets(btc_df):\n",
        "  \n",
        "  output_targets = btc_df[[\"close (USD)\"]]\n",
        "  return output_targets\n",
        "\n",
        "  "
      ],
      "execution_count": 0,
      "outputs": []
    },
    {
      "metadata": {
        "id": "upgsrcf6x1WA",
        "colab_type": "code",
        "colab": {}
      },
      "cell_type": "code",
      "source": [
        "training_examples = preprocess_features(btc_df_r.head(1100))\n",
        "training_targets = preprocess_targets(btc_df_r.head(1100))\n",
        "validation_examples = preprocess_features(btc_df_r.tail(560))\n",
        "validation_targets = preprocess_targets(btc_df_r.tail(560))\n",
        "\n",
        "#training_examples.describe()\n",
        "#training_targets.describe()"
      ],
      "execution_count": 0,
      "outputs": []
    },
    {
      "metadata": {
        "id": "Zo2BOkluy7i2",
        "colab_type": "code",
        "colab": {
          "base_uri": "https://localhost:8080/",
          "height": 173
        },
        "outputId": "7e70678c-2e4f-4174-a9c8-d4208314a426"
      },
      "cell_type": "code",
      "source": [
        "correlation_dataframe = training_examples.copy()\n",
        "correlation_dataframe[\"target close\"] = training_targets[\"close (USD)\"]\n",
        "correlation_dataframe.corr()"
      ],
      "execution_count": 32,
      "outputs": [
        {
          "output_type": "execute_result",
          "data": {
            "text/html": [
              "<div>\n",
              "<style scoped>\n",
              "    .dataframe tbody tr th:only-of-type {\n",
              "        vertical-align: middle;\n",
              "    }\n",
              "\n",
              "    .dataframe tbody tr th {\n",
              "        vertical-align: top;\n",
              "    }\n",
              "\n",
              "    .dataframe thead th {\n",
              "        text-align: right;\n",
              "    }\n",
              "</style>\n",
              "<table border=\"1\" class=\"dataframe\">\n",
              "  <thead>\n",
              "    <tr style=\"text-align: right;\">\n",
              "      <th></th>\n",
              "      <th>high (USD)</th>\n",
              "      <th>low (USD)</th>\n",
              "      <th>volume</th>\n",
              "      <th>target close</th>\n",
              "    </tr>\n",
              "  </thead>\n",
              "  <tbody>\n",
              "    <tr>\n",
              "      <th>high (USD)</th>\n",
              "      <td>1.0</td>\n",
              "      <td>1.0</td>\n",
              "      <td>-0.2</td>\n",
              "      <td>1.0</td>\n",
              "    </tr>\n",
              "    <tr>\n",
              "      <th>low (USD)</th>\n",
              "      <td>1.0</td>\n",
              "      <td>1.0</td>\n",
              "      <td>-0.2</td>\n",
              "      <td>1.0</td>\n",
              "    </tr>\n",
              "    <tr>\n",
              "      <th>volume</th>\n",
              "      <td>-0.2</td>\n",
              "      <td>-0.2</td>\n",
              "      <td>1.0</td>\n",
              "      <td>-0.2</td>\n",
              "    </tr>\n",
              "    <tr>\n",
              "      <th>target close</th>\n",
              "      <td>1.0</td>\n",
              "      <td>1.0</td>\n",
              "      <td>-0.2</td>\n",
              "      <td>1.0</td>\n",
              "    </tr>\n",
              "  </tbody>\n",
              "</table>\n",
              "</div>"
            ],
            "text/plain": [
              "              high (USD)  low (USD)  volume  target close\n",
              "high (USD)           1.0        1.0    -0.2           1.0\n",
              "low (USD)            1.0        1.0    -0.2           1.0\n",
              "volume              -0.2       -0.2     1.0          -0.2\n",
              "target close         1.0        1.0    -0.2           1.0"
            ]
          },
          "metadata": {
            "tags": []
          },
          "execution_count": 32
        }
      ]
    },
    {
      "metadata": {
        "id": "6Tfe_v5N0A9e",
        "colab_type": "code",
        "colab": {}
      },
      "cell_type": "code",
      "source": [
        ""
      ],
      "execution_count": 0,
      "outputs": []
    }
  ]
}