{
  "nbformat": 4,
  "nbformat_minor": 0,
  "metadata": {
    "colab": {
      "name": "form_prac.ipynb",
      "version": "0.3.2",
      "provenance": [],
      "collapsed_sections": [],
      "include_colab_link": true
    },
    "kernelspec": {
      "name": "python3",
      "display_name": "Python 3"
    }
  },
  "cells": [
    {
      "cell_type": "markdown",
      "metadata": {
        "id": "view-in-github",
        "colab_type": "text"
      },
      "source": [
        "[View in Colaboratory](https://colab.research.google.com/github/thispassing/colaboratory/blob/master/form_prac.ipynb)"
      ]
    },
    {
      "metadata": {
        "id": "MDr86gX2GCTF",
        "colab_type": "code",
        "colab": {
          "base_uri": "https://localhost:8080/",
          "height": 53
        },
        "cellView": "both",
        "outputId": "b3777114-8649-4de8-f884-72905e88f814"
      },
      "cell_type": "code",
      "source": [
        "#@title String fields\n",
        "\n",
        "name = 'Andrew' #@param {type:\"string\"}\n",
        "dropdown = '2nd option' #@param [\"1st option\", \"2nd option\", \"3rd option\"]\n",
        "\n",
        "print(\"Your name is\",name)\n",
        "print(\"You picked the\",dropdown)\n"
      ],
      "execution_count": 11,
      "outputs": [
        {
          "output_type": "stream",
          "text": [
            "Your name is Andrew\n",
            "You picked the 2nd option\n"
          ],
          "name": "stdout"
        }
      ]
    },
    {
      "metadata": {
        "id": "KbuucRjnP9u3",
        "colab_type": "code",
        "colab": {}
      },
      "cell_type": "code",
      "source": [
        ""
      ],
      "execution_count": 0,
      "outputs": []
    }
  ]
}